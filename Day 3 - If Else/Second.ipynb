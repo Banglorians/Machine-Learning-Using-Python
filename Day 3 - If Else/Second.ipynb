{
 "cells": [
  {
   "cell_type": "code",
   "execution_count": 1,
   "metadata": {},
   "outputs": [
    {
     "name": "stdout",
     "output_type": "stream",
     "text": [
      "Hi\n"
     ]
    }
   ],
   "source": [
    "name = 'A'\n",
    "\n",
    "if name == 'A':\n",
    "    print(\"Hi\")"
   ]
  },
  {
   "cell_type": "code",
   "execution_count": 2,
   "metadata": {},
   "outputs": [
    {
     "name": "stdout",
     "output_type": "stream",
     "text": [
      "Hi\n"
     ]
    }
   ],
   "source": [
    "name = 'A'\n",
    "\n",
    "if name is 'A':\n",
    "    print(\"Hi\")"
   ]
  },
  {
   "cell_type": "code",
   "execution_count": 3,
   "metadata": {},
   "outputs": [
    {
     "name": "stdout",
     "output_type": "stream",
     "text": [
      "You can vote\n"
     ]
    }
   ],
   "source": [
    "age = 21\n",
    "\n",
    "if age>=18:\n",
    "    print(\"You can vote\")\n",
    "else:\n",
    "    print(\"Sorry you can't vote\")"
   ]
  },
  {
   "cell_type": "code",
   "execution_count": 7,
   "metadata": {},
   "outputs": [
    {
     "name": "stdout",
     "output_type": "stream",
     "text": [
      "Sorry you cant vote\n"
     ]
    }
   ],
   "source": [
    "age = 101\n",
    "\n",
    "if age>=18 and age<100:\n",
    "    print(\"You can vote\")\n",
    "else:\n",
    "    print('Sorry you cant vote')"
   ]
  },
  {
   "cell_type": "code",
   "execution_count": 3,
   "metadata": {},
   "outputs": [
    {
     "name": "stdout",
     "output_type": "stream",
     "text": [
      "C:\\newfolder\\downloads\n"
     ]
    }
   ],
   "source": [
    "print(r'C:\\newfolder\\downloads')"
   ]
  },
  {
   "cell_type": "code",
   "execution_count": 12,
   "metadata": {},
   "outputs": [
    {
     "name": "stdout",
     "output_type": "stream",
     "text": [
      "Grade B\n"
     ]
    }
   ],
   "source": [
    "per = 75\n",
    "\n",
    "if per>=80 and per<=100:\n",
    "    print(\"grade A\")\n",
    "elif per>=60 and per<80:\n",
    "    print(\"Grade B\")\n",
    "else:\n",
    "    print(\"Grade C\")"
   ]
  },
  {
   "cell_type": "code",
   "execution_count": 13,
   "metadata": {},
   "outputs": [
    {
     "name": "stdout",
     "output_type": "stream",
     "text": [
      "Lelo\n"
     ]
    }
   ],
   "source": [
    "shopping_list = ['Jet','BMW','nirma','apple']\n",
    "\n",
    "if 'Jet' in shopping_list:\n",
    "    print(\"Lelo\")\n",
    "else: \n",
    "    print(\"Bus dekh lo lena mat\")"
   ]
  },
  {
   "cell_type": "code",
   "execution_count": 14,
   "metadata": {},
   "outputs": [
    {
     "name": "stdout",
     "output_type": "stream",
     "text": [
      "List mein ye nahi hai\n"
     ]
    }
   ],
   "source": [
    "if 'Macbook' not in shopping_list:\n",
    "    print(\"List mein ye nahi hai\")"
   ]
  },
  {
   "cell_type": "code",
   "execution_count": 16,
   "metadata": {},
   "outputs": [
    {
     "name": "stdout",
     "output_type": "stream",
     "text": [
      "Enter an Item:\n",
      "Mobile\n",
      "Mobile List mein ye nahi hai\n"
     ]
    }
   ],
   "source": [
    "Item = input(\"Enter an Item:\\n\")\n",
    "if Item not in shopping_list:\n",
    "    print(\"{} List mein ye nahi hai\".format(Item))"
   ]
  },
  {
   "cell_type": "code",
   "execution_count": null,
   "metadata": {},
   "outputs": [],
   "source": []
  }
 ],
 "metadata": {
  "kernelspec": {
   "display_name": "Python 3",
   "language": "python",
   "name": "python3"
  },
  "language_info": {
   "codemirror_mode": {
    "name": "ipython",
    "version": 3
   },
   "file_extension": ".py",
   "mimetype": "text/x-python",
   "name": "python",
   "nbconvert_exporter": "python",
   "pygments_lexer": "ipython3",
   "version": "3.7.3"
  }
 },
 "nbformat": 4,
 "nbformat_minor": 2
}
