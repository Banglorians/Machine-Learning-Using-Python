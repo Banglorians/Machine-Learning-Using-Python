{
 "cells": [
  {
   "cell_type": "code",
   "execution_count": 4,
   "metadata": {},
   "outputs": [],
   "source": [
    "import socket\n",
    "\n",
    "def is_connected():\n",
    "    try:\n",
    "        # connect to the host -- tells us if the host is actually\n",
    "        # reachable\n",
    "        socket.create_connection((\"www.google.com\", 80))\n",
    "        return True\n",
    "    except OSError:\n",
    "        pass\n",
    "    return False\n",
    "\n"
   ]
  },
  {
   "cell_type": "code",
   "execution_count": 6,
   "metadata": {},
   "outputs": [
    {
     "data": {
      "text/plain": [
       "True"
      ]
     },
     "execution_count": 6,
     "metadata": {},
     "output_type": "execute_result"
    }
   ],
   "source": [
    "#if True then the internet is working\n",
    "is_connected()"
   ]
  },
  {
   "cell_type": "code",
   "execution_count": 8,
   "metadata": {},
   "outputs": [
    {
     "name": "stdout",
     "output_type": "stream",
     "text": [
      "['391.jpg']\n"
     ]
    }
   ],
   "source": [
    "#Project Code\n",
    "import os\n",
    "import socket\n",
    "from os import listdir\n",
    "from os.path import isfile, join\n",
    "\n",
    "\n",
    "def moveFile():\n",
    "    src = './thiefphoto/'\n",
    "    des = './archive/'\n",
    "    \n",
    "#     if not os.isdir(des):\n",
    "#         os.mkdir('')\n",
    "    \n",
    "#     for f in listdir(src):\n",
    "#         if isfile(join(src, f):\n",
    "#                   return f\n",
    "    \n",
    "    onlyfileslist = [f for f in listdir(src) if isfile(join(src, f))]\n",
    "    print(onlyfileslist)\n",
    "    for one in onlyfileslist:\n",
    "        \n",
    "        #Email Send\n",
    "        \n",
    "        os.rename(join(src,one), join(des,one))\n",
    "        return True\n",
    "    return False\n",
    "\n",
    "moveFile()"
   ]
  },
  {
   "cell_type": "code",
   "execution_count": 7,
   "metadata": {},
   "outputs": [
    {
     "data": {
      "text/plain": [
       "True"
      ]
     },
     "execution_count": 7,
     "metadata": {},
     "output_type": "execute_result"
    }
   ],
   "source": [
    "#Project Code\n",
    "import os\n",
    "import socket\n",
    "from os import listdir\n",
    "from os.path import isfile, join\n",
    "\n",
    "#Function to send Email\n",
    "def sendEmail():\n",
    "    #Send Email and Return True\n",
    "    return True\n",
    "\n",
    "#Function to check Internet\n",
    "def is_connected():\n",
    "    try:\n",
    "        # connect to the host -- tells us if the host is actually\n",
    "        # reachable\n",
    "        socket.create_connection((\"www.google.com\", 80))\n",
    "        return True\n",
    "    except OSError:\n",
    "        pass\n",
    "    return False\n",
    "\n",
    "#Move Files\n",
    "def moveFile():\n",
    "    src = './thiefphoto/'\n",
    "    des = './archive/'\n",
    "    \n",
    "#     if not os.isdir(des):\n",
    "#         os.mkdir('')\n",
    "    \n",
    "#     for f in listdir(src):\n",
    "#         if isfile(join(src, f):\n",
    "#                   return f\n",
    "    \n",
    "    onlyfiles = [f for f in listdir(src) if isfile(join(src, f))]\n",
    "    \n",
    "    for one in onlyfiles:\n",
    "        \n",
    "        #Email Send\n",
    "        \n",
    "        os.rename(join(src,one), join(des,one))\n",
    "        return True\n",
    "    return False\n",
    "\n",
    "#Init Function\n",
    "def pre_check():\n",
    "    if is_connected():\n",
    "        if sendEmail():\n",
    "            if moveFile():\n",
    "                return True\n",
    "    return False\n",
    "            \n",
    "\n",
    "pre_check()"
   ]
  },
  {
   "cell_type": "code",
   "execution_count": null,
   "metadata": {},
   "outputs": [],
   "source": []
  }
 ],
 "metadata": {
  "kernelspec": {
   "display_name": "Python 3",
   "language": "python",
   "name": "python3"
  },
  "language_info": {
   "codemirror_mode": {
    "name": "ipython",
    "version": 3
   },
   "file_extension": ".py",
   "mimetype": "text/x-python",
   "name": "python",
   "nbconvert_exporter": "python",
   "pygments_lexer": "ipython3",
   "version": "3.7.3"
  }
 },
 "nbformat": 4,
 "nbformat_minor": 2
}
