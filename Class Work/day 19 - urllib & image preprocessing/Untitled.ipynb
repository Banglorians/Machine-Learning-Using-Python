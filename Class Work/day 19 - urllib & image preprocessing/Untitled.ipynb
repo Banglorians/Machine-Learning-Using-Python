{
 "cells": [
  {
   "cell_type": "code",
   "execution_count": 2,
   "metadata": {},
   "outputs": [
    {
     "name": "stdout",
     "output_type": "stream",
     "text": [
      "2127121979_c8e2ac9ba3.jpg\n"
     ]
    }
   ],
   "source": [
    "#import random\n",
    "import urllib.request\n",
    "\n",
    "def download_web_image(url):\n",
    "    \n",
    "   # name = random.randrange(1, 1000)\n",
    "    name = url.split('/')[-1]\n",
    "    print(name)\n",
    "    folder = \"Dataset/\"\n",
    "    \n",
    "    full_name = folder + str(name)\n",
    "    \n",
    "    urllib.request.urlretrieve(url, full_name)\n",
    "\n",
    "download_web_image(\"http://farm3.static.flickr.com/2264/2127121979_c8e2ac9ba3.jpg\")"
   ]
  },
  {
   "cell_type": "code",
   "execution_count": 3,
   "metadata": {},
   "outputs": [
    {
     "name": "stdout",
     "output_type": "stream",
     "text": [
      "Downloading... http://farm2.static.flickr.com/1131/681589138_e4b702f863.jpg\n",
      "681589138_e4b702f863.jpg\n",
      "Saved\n",
      "Downloading... http://farm1.static.flickr.com/8/9877764_70c7f8f1c0.jpg\n",
      "9877764_70c7f8f1c0.jpg\n",
      "Saved\n",
      "Downloading... http://farm1.static.flickr.com/41/84158704_4d98d48c9b.jpg\n",
      "84158704_4d98d48c9b.jpg\n",
      "Saved\n",
      "Downloading... http://farm1.static.flickr.com/30/67014080_df1d6653e7.jpg\n",
      "67014080_df1d6653e7.jpg\n",
      "Saved\n",
      "Downloading... http://about.reuters.com/pictures/prints/galleries/Stories/632425282762244645/Previews/X010950020041209e0c90002u.jpg\n",
      "X010950020041209e0c90002u.jpg\n",
      "Download Failed\n",
      "Downloading... http://farm1.static.flickr.com/30/51398169_bc499fc4d4.jpg\n",
      "51398169_bc499fc4d4.jpg\n",
      "Download Failed\n",
      "Downloading... http://farm1.static.flickr.com/52/126706573_2566727927.jpg\n",
      "126706573_2566727927.jpg\n",
      "Saved\n",
      "Downloading... http://farm1.static.flickr.com/51/202205490_2dd6bf2e39.jpg\n",
      "202205490_2dd6bf2e39.jpg\n",
      "Saved\n",
      "Downloading... http://farm1.static.flickr.com/66/157407741_f951117dba.jpg\n",
      "157407741_f951117dba.jpg\n",
      "Saved\n",
      "Downloading... http://farm1.static.flickr.com/115/314276678_dfdac66a62.jpg\n",
      "314276678_dfdac66a62.jpg\n",
      "Saved\n"
     ]
    }
   ],
   "source": [
    "f = open(\"huskyurls.csv\")\n",
    "data = f.read().split()\n",
    "#print(type(data))\n",
    "data= data[0:10]\n",
    "\n",
    "for url in data:\n",
    "    print(\"Downloading...\",url)\n",
    "    try:\n",
    "        download_web_image(url)\n",
    "        print(\"Saved\")\n",
    "    except:\n",
    "        print(\"Download Failed\")"
   ]
  },
  {
   "cell_type": "code",
   "execution_count": null,
   "metadata": {},
   "outputs": [],
   "source": []
  },
  {
   "cell_type": "code",
   "execution_count": null,
   "metadata": {},
   "outputs": [],
   "source": []
  },
  {
   "cell_type": "code",
   "execution_count": null,
   "metadata": {},
   "outputs": [],
   "source": []
  },
  {
   "cell_type": "code",
   "execution_count": null,
   "metadata": {},
   "outputs": [],
   "source": []
  },
  {
   "cell_type": "code",
   "execution_count": null,
   "metadata": {},
   "outputs": [],
   "source": []
  },
  {
   "cell_type": "code",
   "execution_count": null,
   "metadata": {},
   "outputs": [],
   "source": []
  },
  {
   "cell_type": "code",
   "execution_count": 25,
   "metadata": {
    "collapsed": true
   },
   "outputs": [
    {
     "name": "stdout",
     "output_type": "stream",
     "text": [
      "1540\n",
      "Image Saved http://farm2.static.flickr.com/1131/681589138_e4b702f863.jpg\n",
      "Image Saved http://farm1.static.flickr.com/8/9877764_70c7f8f1c0.jpg\n",
      "Image Saved http://farm1.static.flickr.com/41/84158704_4d98d48c9b.jpg\n",
      "Image Saved http://farm1.static.flickr.com/30/67014080_df1d6653e7.jpg\n",
      "Not Working http://about.reuters.com/pictures/prints/galleries/Stories/632425282762244645/Previews/X010950020041209e0c90002u.jpg\n",
      "Not Working http://farm1.static.flickr.com/30/51398169_bc499fc4d4.jpg\n",
      "Image Saved http://farm1.static.flickr.com/52/126706573_2566727927.jpg\n",
      "Image Saved http://farm1.static.flickr.com/51/202205490_2dd6bf2e39.jpg\n",
      "Image Saved http://farm1.static.flickr.com/66/157407741_f951117dba.jpg\n",
      "Image Saved http://farm1.static.flickr.com/115/314276678_dfdac66a62.jpg\n"
     ]
    }
   ],
   "source": [
    "import csv\n",
    "\n",
    "urls = list(csv.reader(open('huskyurls.csv','r')))\n",
    "\n",
    "print(len(urls))\n",
    "\n",
    "test = urls[0:10]\n",
    "\n",
    "for url in test:\n",
    "    try:\n",
    "        download_web_image(url[0])\n",
    "        print(\"Image Saved\",url[0])\n",
    "    except:\n",
    "        print(\"Not Working\",url[0])"
   ]
  },
  {
   "cell_type": "code",
   "execution_count": null,
   "metadata": {},
   "outputs": [],
   "source": []
  }
 ],
 "metadata": {
  "kernelspec": {
   "display_name": "Python 3",
   "language": "python",
   "name": "python3"
  },
  "language_info": {
   "codemirror_mode": {
    "name": "ipython",
    "version": 3
   },
   "file_extension": ".py",
   "mimetype": "text/x-python",
   "name": "python",
   "nbconvert_exporter": "python",
   "pygments_lexer": "ipython3",
   "version": "3.7.3"
  }
 },
 "nbformat": 4,
 "nbformat_minor": 2
}
