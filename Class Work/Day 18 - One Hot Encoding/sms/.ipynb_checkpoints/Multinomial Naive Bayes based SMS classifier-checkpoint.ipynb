{
 "cells": [
  {
   "cell_type": "markdown",
   "metadata": {},
   "source": [
    "# Multinomial Naive Bayes based SMS Classifier"
   ]
  },
  {
   "cell_type": "code",
   "execution_count": 1,
   "metadata": {},
   "outputs": [
    {
     "data": {
      "text/html": [
       "<div>\n",
       "<style scoped>\n",
       "    .dataframe tbody tr th:only-of-type {\n",
       "        vertical-align: middle;\n",
       "    }\n",
       "\n",
       "    .dataframe tbody tr th {\n",
       "        vertical-align: top;\n",
       "    }\n",
       "\n",
       "    .dataframe thead th {\n",
       "        text-align: right;\n",
       "    }\n",
       "</style>\n",
       "<table border=\"1\" class=\"dataframe\">\n",
       "  <thead>\n",
       "    <tr style=\"text-align: right;\">\n",
       "      <th></th>\n",
       "      <th>Class</th>\n",
       "      <th>sms</th>\n",
       "    </tr>\n",
       "  </thead>\n",
       "  <tbody>\n",
       "    <tr>\n",
       "      <th>0</th>\n",
       "      <td>ham</td>\n",
       "      <td>Go until jurong point, crazy.. Available only ...</td>\n",
       "    </tr>\n",
       "    <tr>\n",
       "      <th>1</th>\n",
       "      <td>ham</td>\n",
       "      <td>Ok lar... Joking wif u oni...</td>\n",
       "    </tr>\n",
       "    <tr>\n",
       "      <th>2</th>\n",
       "      <td>spam</td>\n",
       "      <td>Free entry in 2 a wkly comp to win FA Cup fina...</td>\n",
       "    </tr>\n",
       "    <tr>\n",
       "      <th>3</th>\n",
       "      <td>ham</td>\n",
       "      <td>U dun say so early hor... U c already then say...</td>\n",
       "    </tr>\n",
       "    <tr>\n",
       "      <th>4</th>\n",
       "      <td>ham</td>\n",
       "      <td>Nah I don't think he goes to usf, he lives aro...</td>\n",
       "    </tr>\n",
       "  </tbody>\n",
       "</table>\n",
       "</div>"
      ],
      "text/plain": [
       "  Class                                                sms\n",
       "0   ham  Go until jurong point, crazy.. Available only ...\n",
       "1   ham                      Ok lar... Joking wif u oni...\n",
       "2  spam  Free entry in 2 a wkly comp to win FA Cup fina...\n",
       "3   ham  U dun say so early hor... U c already then say...\n",
       "4   ham  Nah I don't think he goes to usf, he lives aro..."
      ]
     },
     "execution_count": 1,
     "metadata": {},
     "output_type": "execute_result"
    }
   ],
   "source": [
    "import pandas as pd\n",
    "\n",
    "docs = pd.read_csv('sms.tsv', sep='\\t', names=['Class', 'sms'])\n",
    "\n",
    "#classifier in column 1, sms in column 2.\n",
    "docs.head()"
   ]
  },
  {
   "cell_type": "code",
   "execution_count": 3,
   "metadata": {},
   "outputs": [
    {
     "data": {
      "text/plain": [
       "ham     4825\n",
       "spam     747\n",
       "Name: Class, dtype: int64"
      ]
     },
     "execution_count": 3,
     "metadata": {},
     "output_type": "execute_result"
    }
   ],
   "source": [
    "# counting spam and ham instances\n",
    "# df.column_name.value_counts() - gives no. of unique inputs in the columns\n",
    "\n",
    "ham_spam=docs.Class.value_counts()\n",
    "ham_spam"
   ]
  },
  {
   "cell_type": "code",
   "execution_count": 4,
   "metadata": {},
   "outputs": [],
   "source": [
    "# mapping labels to 0 and 1\n",
    "docs['label'] = docs.Class.map({'ham':0, 'spam':1})"
   ]
  },
  {
   "cell_type": "code",
   "execution_count": 5,
   "metadata": {},
   "outputs": [
    {
     "data": {
      "text/html": [
       "<div>\n",
       "<style scoped>\n",
       "    .dataframe tbody tr th:only-of-type {\n",
       "        vertical-align: middle;\n",
       "    }\n",
       "\n",
       "    .dataframe tbody tr th {\n",
       "        vertical-align: top;\n",
       "    }\n",
       "\n",
       "    .dataframe thead th {\n",
       "        text-align: right;\n",
       "    }\n",
       "</style>\n",
       "<table border=\"1\" class=\"dataframe\">\n",
       "  <thead>\n",
       "    <tr style=\"text-align: right;\">\n",
       "      <th></th>\n",
       "      <th>Class</th>\n",
       "      <th>sms</th>\n",
       "      <th>label</th>\n",
       "    </tr>\n",
       "  </thead>\n",
       "  <tbody>\n",
       "    <tr>\n",
       "      <th>0</th>\n",
       "      <td>ham</td>\n",
       "      <td>Go until jurong point, crazy.. Available only ...</td>\n",
       "      <td>0</td>\n",
       "    </tr>\n",
       "    <tr>\n",
       "      <th>1</th>\n",
       "      <td>ham</td>\n",
       "      <td>Ok lar... Joking wif u oni...</td>\n",
       "      <td>0</td>\n",
       "    </tr>\n",
       "    <tr>\n",
       "      <th>2</th>\n",
       "      <td>spam</td>\n",
       "      <td>Free entry in 2 a wkly comp to win FA Cup fina...</td>\n",
       "      <td>1</td>\n",
       "    </tr>\n",
       "    <tr>\n",
       "      <th>3</th>\n",
       "      <td>ham</td>\n",
       "      <td>U dun say so early hor... U c already then say...</td>\n",
       "      <td>0</td>\n",
       "    </tr>\n",
       "    <tr>\n",
       "      <th>4</th>\n",
       "      <td>ham</td>\n",
       "      <td>Nah I don't think he goes to usf, he lives aro...</td>\n",
       "      <td>0</td>\n",
       "    </tr>\n",
       "  </tbody>\n",
       "</table>\n",
       "</div>"
      ],
      "text/plain": [
       "  Class                                                sms  label\n",
       "0   ham  Go until jurong point, crazy.. Available only ...      0\n",
       "1   ham                      Ok lar... Joking wif u oni...      0\n",
       "2  spam  Free entry in 2 a wkly comp to win FA Cup fina...      1\n",
       "3   ham  U dun say so early hor... U c already then say...      0\n",
       "4   ham  Nah I don't think he goes to usf, he lives aro...      0"
      ]
     },
     "execution_count": 5,
     "metadata": {},
     "output_type": "execute_result"
    }
   ],
   "source": [
    "docs.head()"
   ]
  },
  {
   "cell_type": "code",
   "execution_count": 6,
   "metadata": {},
   "outputs": [
    {
     "name": "stdout",
     "output_type": "stream",
     "text": [
      "(5572,)\n",
      "(5572,)\n"
     ]
    }
   ],
   "source": [
    "X = docs.sms\n",
    "y = docs.label\n",
    "print(X.shape)\n",
    "print(y.shape)"
   ]
  },
  {
   "cell_type": "code",
   "execution_count": 12,
   "metadata": {},
   "outputs": [],
   "source": [
    "# splitting into test and train\n",
    "\n",
    "from sklearn.model_selection  import train_test_split\n",
    "X_train, X_test, y_train, y_test = train_test_split(X, y, random_state=1)"
   ]
  },
  {
   "cell_type": "code",
   "execution_count": 13,
   "metadata": {},
   "outputs": [
    {
     "data": {
      "text/plain": [
       "710     4mths half price Orange line rental & latest c...\n",
       "3740                           Did you stitch his trouser\n",
       "2711    Hope you enjoyed your new content. text stop t...\n",
       "3155    Not heard from U4 a while. Call 4 rude chat pr...\n",
       "3748    Ü neva tell me how i noe... I'm not at home in...\n",
       "Name: sms, dtype: object"
      ]
     },
     "execution_count": 13,
     "metadata": {},
     "output_type": "execute_result"
    }
   ],
   "source": [
    "X_train.head()"
   ]
  },
  {
   "cell_type": "code",
   "execution_count": 16,
   "metadata": {},
   "outputs": [],
   "source": [
    "# vectorizing the sentences; removing stop words\n",
    "from sklearn.feature_extraction.text import CountVectorizer\n",
    "vect = CountVectorizer(stop_words='english')"
   ]
  },
  {
   "cell_type": "code",
   "execution_count": 17,
   "metadata": {
    "scrolled": true
   },
   "outputs": [
    {
     "data": {
      "text/plain": [
       "CountVectorizer(analyzer='word', binary=False, decode_error='strict',\n",
       "                dtype=<class 'numpy.int64'>, encoding='utf-8', input='content',\n",
       "                lowercase=True, max_df=1.0, max_features=None, min_df=1,\n",
       "                ngram_range=(1, 1), preprocessor=None, stop_words='english',\n",
       "                strip_accents=None, token_pattern='(?u)\\\\b\\\\w\\\\w+\\\\b',\n",
       "                tokenizer=None, vocabulary=None)"
      ]
     },
     "execution_count": 17,
     "metadata": {},
     "output_type": "execute_result"
    }
   ],
   "source": [
    "vect.fit(X_train)\n",
    "# X_train_dtm = vect.transform(X_train)"
   ]
  },
  {
   "cell_type": "code",
   "execution_count": 18,
   "metadata": {},
   "outputs": [],
   "source": [
    "# transforming the train and test datasets\n",
    "X_train_transformed = vect.transform(X_train)\n",
    "X_test_transformed =vect.transform(X_test)"
   ]
  },
  {
   "cell_type": "code",
   "execution_count": 19,
   "metadata": {},
   "outputs": [
    {
     "name": "stdout",
     "output_type": "stream",
     "text": [
      "<class 'scipy.sparse.csr.csr_matrix'>\n",
      "  (0, 50)\t1\n",
      "  (0, 264)\t1\n",
      "  (0, 509)\t1\n",
      "  (0, 1527)\t1\n",
      "  (0, 1971)\t1\n",
      "  (0, 2780)\t2\n",
      "  (0, 3089)\t1\n",
      "  (0, 3763)\t1\n",
      "  (0, 3852)\t1\n",
      "  (0, 4248)\t1\n",
      "  (0, 4624)\t1\n",
      "  (0, 4626)\t1\n",
      "  (0, 4818)\t1\n",
      "  (0, 4822)\t1\n",
      "  (0, 5027)\t1\n",
      "  (0, 5310)\t1\n",
      "  (0, 6673)\t1\n",
      "  (1, 2169)\t1\n",
      "  (1, 6028)\t1\n",
      "  (1, 6545)\t1\n",
      "  (2, 98)\t1\n",
      "  (2, 563)\t1\n",
      "  (2, 1867)\t1\n",
      "  (2, 2436)\t1\n",
      "  (2, 3180)\t1\n",
      "  :\t:\n",
      "  (4176, 3879)\t1\n",
      "  (4176, 4417)\t1\n",
      "  (4176, 5229)\t1\n",
      "  (4176, 6191)\t1\n",
      "  (4176, 7134)\t1\n",
      "  (4177, 254)\t1\n",
      "  (4177, 307)\t1\n",
      "  (4177, 358)\t1\n",
      "  (4177, 831)\t1\n",
      "  (4177, 2046)\t1\n",
      "  (4177, 2704)\t1\n",
      "  (4177, 3585)\t1\n",
      "  (4177, 3623)\t1\n",
      "  (4177, 4130)\t1\n",
      "  (4177, 4315)\t1\n",
      "  (4177, 4771)\t1\n",
      "  (4177, 5234)\t1\n",
      "  (4177, 5321)\t1\n",
      "  (4177, 5487)\t1\n",
      "  (4177, 5620)\t1\n",
      "  (4177, 6321)\t1\n",
      "  (4177, 6374)\t1\n",
      "  (4177, 6453)\t1\n",
      "  (4178, 1643)\t1\n",
      "  (4178, 5817)\t1\n"
     ]
    }
   ],
   "source": [
    "# note that the type is transformed matrix\n",
    "print(type(X_train_transformed))\n",
    "print(X_train_transformed)"
   ]
  },
  {
   "cell_type": "code",
   "execution_count": 23,
   "metadata": {},
   "outputs": [
    {
     "name": "stdout",
     "output_type": "stream",
     "text": [
      "  (0, 1867)\t1\n",
      "  (0, 2436)\t1\n",
      "  (0, 3260)\t1\n",
      "  (0, 4442)\t1\n",
      "text:['Hope you enjoyed your new content'] \n",
      "Predicted Class: ham\n",
      "[[0.61733459 0.38266541]]\n"
     ]
    }
   ],
   "source": [
    "# training the NB model and making predictions\n",
    "from sklearn.naive_bayes import MultinomialNB\n",
    "mnb = MultinomialNB()\n",
    "\n",
    "# fit\n",
    "mnb.fit(X_train_transformed,y_train)\n",
    "\n",
    "# predict class\n",
    "y_pred_class = mnb.predict(X_test_transformed)\n",
    "\n",
    "# predict probabilities\n",
    "y_pred_proba =mnb.predict_proba(X_test_transformed)\n",
    "\n",
    "#Custom Chek for the comment\n",
    "\n",
    "t = ['Hope you enjoyed your new content']\n",
    "\n",
    "comment =  vect.transform(t)\n",
    "\n",
    "print(comment)\n",
    "\n",
    "predicted_class = mnb.predict_proba(comment)\n",
    "\n",
    "#predict probabilities\n",
    "y_pred_proba =mnb.predict_proba(comment)\n",
    "predicted_list =  predicted_class.tolist()\n",
    "pre_class = docs.Class[predicted_list.index(max(predicted_list))]\n",
    "\n",
    "print(\"text:{} \\nPredicted Class: {}\".format(t,pre_class))\n",
    "print(y_pred_proba)\n",
    "\n",
    "# printing the overall accuracy\n",
    "from sklearn import metrics\n",
    "#metrics.accuracy_score(y_test, y_pred_class)"
   ]
  },
  {
   "cell_type": "code",
   "execution_count": null,
   "metadata": {},
   "outputs": [],
   "source": []
  }
 ],
 "metadata": {
  "anaconda-cloud": {},
  "kernelspec": {
   "display_name": "Python 3",
   "language": "python",
   "name": "python3"
  },
  "language_info": {
   "codemirror_mode": {
    "name": "ipython",
    "version": 3
   },
   "file_extension": ".py",
   "mimetype": "text/x-python",
   "name": "python",
   "nbconvert_exporter": "python",
   "pygments_lexer": "ipython3",
   "version": "3.7.3"
  }
 },
 "nbformat": 4,
 "nbformat_minor": 1
}
