{
 "cells": [
  {
   "cell_type": "code",
   "execution_count": 2,
   "metadata": {},
   "outputs": [],
   "source": [
    "import pandas as pd\n",
    "import numpy as np \n",
    "from sklearn.model_selection import train_test_split\n",
    "import matplotlib.pyplot as plt"
   ]
  },
  {
   "cell_type": "code",
   "execution_count": 3,
   "metadata": {},
   "outputs": [],
   "source": [
    "data = pd.read_csv(\"headbrain6.csv\")\n",
    "#print(data.head())\n",
    "\n",
    "x = data.iloc[:,2:3].values\n",
    "y = data.iloc[:,3:4].values\n"
   ]
  },
  {
   "cell_type": "code",
   "execution_count": 4,
   "metadata": {},
   "outputs": [
    {
     "data": {
      "text/plain": [
       "LinearRegression(copy_X=True, fit_intercept=True, n_jobs=None, normalize=False)"
      ]
     },
     "execution_count": 4,
     "metadata": {},
     "output_type": "execute_result"
    }
   ],
   "source": [
    "x_train, x_test,y_train,y_test = train_test_split(x,y,test_size=1/4,random_state=0)\n",
    "\n",
    "from sklearn.linear_model import LinearRegression\n",
    "\n",
    "reg = LinearRegression()\n",
    "\n",
    "reg.fit(x_train,y_train)"
   ]
  },
  {
   "cell_type": "code",
   "execution_count": 5,
   "metadata": {},
   "outputs": [],
   "source": [
    "y_predict = reg.predict(x_test)"
   ]
  },
  {
   "cell_type": "code",
   "execution_count": null,
   "metadata": {},
   "outputs": [],
   "source": []
  },
  {
   "cell_type": "code",
   "execution_count": 6,
   "metadata": {},
   "outputs": [
    {
     "name": "stdout",
     "output_type": "stream",
     "text": [
      "Error :  [-26.62267486]\n",
      "Error :  [25.63713415]\n",
      "Error :  [39.55866208]\n",
      "Error :  [-5.44172482]\n",
      "Error :  [28.53484963]\n",
      "Error :  [121.0819909]\n",
      "Error :  [-62.13390401]\n",
      "Error :  [-47.74486758]\n",
      "Error :  [36.04685258]\n",
      "Error :  [65.87742186]\n",
      "Error :  [-44.42552743]\n",
      "Error :  [11.50674601]\n",
      "Error :  [-27.72534628]\n",
      "Error :  [95.22780262]\n",
      "Error :  [-101.40639305]\n",
      "Error :  [-41.68982106]\n",
      "Error :  [-120.07943784]\n",
      "Error :  [4.2436131]\n",
      "Error :  [-83.92601107]\n",
      "Error :  [76.78275241]\n",
      "Error :  [-13.55201131]\n",
      "Error :  [-48.19714594]\n",
      "Error :  [86.54675585]\n",
      "Error :  [28.94808541]\n",
      "Error :  [-52.09505488]\n",
      "Error :  [37.23561113]\n",
      "Error :  [-38.10734801]\n",
      "Error :  [69.87332415]\n",
      "Error :  [132.70857151]\n",
      "Error :  [-57.75325645]\n",
      "Error :  [-47.93010878]\n",
      "Error :  [-22.07553359]\n",
      "Error :  [-140.92601107]\n",
      "Error :  [-98.53190966]\n",
      "Error :  [-2.19343514]\n",
      "Error :  [94.96370245]\n",
      "Error :  [47.16084987]\n",
      "Error :  [-79.97286216]\n",
      "Error :  [-92.21314988]\n",
      "Error :  [-114.74096332]\n",
      "Error :  [49.08608861]\n",
      "Error :  [194.34141301]\n",
      "Error :  [23.62093676]\n",
      "Error :  [59.47980311]\n",
      "Error :  [43.00371229]\n",
      "Error :  [-9.39839108]\n",
      "Error :  [-83.96544055]\n",
      "Error :  [43.5461755]\n",
      "Error :  [-67.96172974]\n",
      "Error :  [-117.00506349]\n",
      "Error :  [-4.2213453]\n",
      "Error :  [-60.75658035]\n",
      "Error :  [-24.00467658]\n",
      "Error :  [-13.45305069]\n",
      "Error :  [-27.1741073]\n",
      "Error :  [72.25493897]\n",
      "Error :  [-61.51687299]\n",
      "Error :  [65.18798623]\n",
      "Error :  [162.60961089]\n",
      "Error :  [-45.73744596]\n"
     ]
    }
   ],
   "source": [
    "for i in range(0,60):\n",
    "    print(\"Error : \",y_test[i] - y_predict[i])\n",
    "\n"
   ]
  },
  {
   "cell_type": "code",
   "execution_count": 34,
   "metadata": {},
   "outputs": [
    {
     "data": {
      "image/png": "[encoded data removed]",
      "text/plain": [
       "<Figure size 432x288 with 1 Axes>"
      ]
     },
     "metadata": {
      "needs_background": "light"
     },
     "output_type": "display_data"
    }
   ],
   "source": [
    "plt.plot(x_test,y_predict)\n",
    "#plt.plot(x_test,y_test)\n",
    "\n",
    "\n",
    "\n",
    "plt.scatter(x_test,y_test,color='red')\n",
    "plt.show()"
   ]
  },
  {
   "cell_type": "code",
   "execution_count": 37,
   "metadata": {},
   "outputs": [
    {
     "data": {
      "text/plain": [
       "5264.955252408745"
      ]
     },
     "execution_count": 37,
     "metadata": {},
     "output_type": "execute_result"
    }
   ],
   "source": [
    "rs = np.mean((y_test-y_predict)**2)\n",
    "\n",
    "rs"
   ]
  },
  {
   "cell_type": "code",
   "execution_count": 38,
   "metadata": {},
   "outputs": [
    {
     "data": {
      "text/plain": [
       "72.56001138649818"
      ]
     },
     "execution_count": 38,
     "metadata": {},
     "output_type": "execute_result"
    }
   ],
   "source": [
    "np.sqrt(rs)"
   ]
  },
  {
   "cell_type": "code",
   "execution_count": null,
   "metadata": {},
   "outputs": [],
   "source": []
  }
 ],
 "metadata": {
  "kernelspec": {
   "display_name": "Python 3",
   "language": "python",
   "name": "python3"
  },
  "language_info": {
   "codemirror_mode": {
    "name": "ipython",
    "version": 3
   },
   "file_extension": ".py",
   "mimetype": "text/x-python",
   "name": "python",
   "nbconvert_exporter": "python",
   "pygments_lexer": "ipython3",
   "version": "3.7.3"
  }
 },
 "nbformat": 4,
 "nbformat_minor": 2
}
